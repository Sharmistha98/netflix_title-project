{
 "cells": [
  {
   "cell_type": "code",
   "execution_count": 1,
   "id": "4a80466f",
   "metadata": {},
   "outputs": [],
   "source": [
    "import pandas as pd\n",
    "import numpy as np\n",
    "import matplotlib.pyplot as plt\n",
    "import seaborn as sns"
   ]
  },
  {
   "cell_type": "markdown",
   "id": "13df691d",
   "metadata": {},
   "source": [
    "# Import netflix dataset"
   ]
  },
  {
   "cell_type": "code",
   "execution_count": 2,
   "id": "aecbba45",
   "metadata": {},
   "outputs": [
    {
     "data": {
      "text/html": [
       "<div>\n",
       "<style scoped>\n",
       "    .dataframe tbody tr th:only-of-type {\n",
       "        vertical-align: middle;\n",
       "    }\n",
       "\n",
       "    .dataframe tbody tr th {\n",
       "        vertical-align: top;\n",
       "    }\n",
       "\n",
       "    .dataframe thead th {\n",
       "        text-align: right;\n",
       "    }\n",
       "</style>\n",
       "<table border=\"1\" class=\"dataframe\">\n",
       "  <thead>\n",
       "    <tr style=\"text-align: right;\">\n",
       "      <th></th>\n",
       "      <th>show_id</th>\n",
       "      <th>type</th>\n",
       "      <th>title</th>\n",
       "      <th>director</th>\n",
       "      <th>cast</th>\n",
       "      <th>country</th>\n",
       "      <th>date_added</th>\n",
       "      <th>release_year</th>\n",
       "      <th>rating</th>\n",
       "      <th>duration</th>\n",
       "      <th>listed_in</th>\n",
       "      <th>description</th>\n",
       "    </tr>\n",
       "  </thead>\n",
       "  <tbody>\n",
       "    <tr>\n",
       "      <th>0</th>\n",
       "      <td>81145628</td>\n",
       "      <td>Movie</td>\n",
       "      <td>Norm of the North: King Sized Adventure</td>\n",
       "      <td>Richard Finn, Tim Maltby</td>\n",
       "      <td>Alan Marriott, Andrew Toth, Brian Dobson, Cole...</td>\n",
       "      <td>United States, India, South Korea, China</td>\n",
       "      <td>September 9, 2019</td>\n",
       "      <td>2019</td>\n",
       "      <td>TV-PG</td>\n",
       "      <td>90 min</td>\n",
       "      <td>Children &amp; Family Movies, Comedies</td>\n",
       "      <td>Before planning an awesome wedding for his gra...</td>\n",
       "    </tr>\n",
       "    <tr>\n",
       "      <th>1</th>\n",
       "      <td>80117401</td>\n",
       "      <td>Movie</td>\n",
       "      <td>Jandino: Whatever it Takes</td>\n",
       "      <td>NaN</td>\n",
       "      <td>Jandino Asporaat</td>\n",
       "      <td>United Kingdom</td>\n",
       "      <td>September 9, 2016</td>\n",
       "      <td>2016</td>\n",
       "      <td>TV-MA</td>\n",
       "      <td>94 min</td>\n",
       "      <td>Stand-Up Comedy</td>\n",
       "      <td>Jandino Asporaat riffs on the challenges of ra...</td>\n",
       "    </tr>\n",
       "    <tr>\n",
       "      <th>2</th>\n",
       "      <td>70234439</td>\n",
       "      <td>TV Show</td>\n",
       "      <td>Transformers Prime</td>\n",
       "      <td>NaN</td>\n",
       "      <td>Peter Cullen, Sumalee Montano, Frank Welker, J...</td>\n",
       "      <td>United States</td>\n",
       "      <td>September 8, 2018</td>\n",
       "      <td>2013</td>\n",
       "      <td>TV-Y7-FV</td>\n",
       "      <td>1 Season</td>\n",
       "      <td>Kids' TV</td>\n",
       "      <td>With the help of three human allies, the Autob...</td>\n",
       "    </tr>\n",
       "    <tr>\n",
       "      <th>3</th>\n",
       "      <td>80058654</td>\n",
       "      <td>TV Show</td>\n",
       "      <td>Transformers: Robots in Disguise</td>\n",
       "      <td>NaN</td>\n",
       "      <td>Will Friedle, Darren Criss, Constance Zimmer, ...</td>\n",
       "      <td>United States</td>\n",
       "      <td>September 8, 2018</td>\n",
       "      <td>2016</td>\n",
       "      <td>TV-Y7</td>\n",
       "      <td>1 Season</td>\n",
       "      <td>Kids' TV</td>\n",
       "      <td>When a prison ship crash unleashes hundreds of...</td>\n",
       "    </tr>\n",
       "    <tr>\n",
       "      <th>4</th>\n",
       "      <td>80125979</td>\n",
       "      <td>Movie</td>\n",
       "      <td>#realityhigh</td>\n",
       "      <td>Fernando Lebrija</td>\n",
       "      <td>Nesta Cooper, Kate Walsh, John Michael Higgins...</td>\n",
       "      <td>United States</td>\n",
       "      <td>September 8, 2017</td>\n",
       "      <td>2017</td>\n",
       "      <td>TV-14</td>\n",
       "      <td>99 min</td>\n",
       "      <td>Comedies</td>\n",
       "      <td>When nerdy high schooler Dani finally attracts...</td>\n",
       "    </tr>\n",
       "  </tbody>\n",
       "</table>\n",
       "</div>"
      ],
      "text/plain": [
       "    show_id     type                                    title  \\\n",
       "0  81145628    Movie  Norm of the North: King Sized Adventure   \n",
       "1  80117401    Movie               Jandino: Whatever it Takes   \n",
       "2  70234439  TV Show                       Transformers Prime   \n",
       "3  80058654  TV Show         Transformers: Robots in Disguise   \n",
       "4  80125979    Movie                             #realityhigh   \n",
       "\n",
       "                   director  \\\n",
       "0  Richard Finn, Tim Maltby   \n",
       "1                       NaN   \n",
       "2                       NaN   \n",
       "3                       NaN   \n",
       "4          Fernando Lebrija   \n",
       "\n",
       "                                                cast  \\\n",
       "0  Alan Marriott, Andrew Toth, Brian Dobson, Cole...   \n",
       "1                                   Jandino Asporaat   \n",
       "2  Peter Cullen, Sumalee Montano, Frank Welker, J...   \n",
       "3  Will Friedle, Darren Criss, Constance Zimmer, ...   \n",
       "4  Nesta Cooper, Kate Walsh, John Michael Higgins...   \n",
       "\n",
       "                                    country         date_added  release_year  \\\n",
       "0  United States, India, South Korea, China  September 9, 2019          2019   \n",
       "1                            United Kingdom  September 9, 2016          2016   \n",
       "2                             United States  September 8, 2018          2013   \n",
       "3                             United States  September 8, 2018          2016   \n",
       "4                             United States  September 8, 2017          2017   \n",
       "\n",
       "     rating  duration                           listed_in  \\\n",
       "0     TV-PG    90 min  Children & Family Movies, Comedies   \n",
       "1     TV-MA    94 min                     Stand-Up Comedy   \n",
       "2  TV-Y7-FV  1 Season                            Kids' TV   \n",
       "3     TV-Y7  1 Season                            Kids' TV   \n",
       "4     TV-14    99 min                            Comedies   \n",
       "\n",
       "                                         description  \n",
       "0  Before planning an awesome wedding for his gra...  \n",
       "1  Jandino Asporaat riffs on the challenges of ra...  \n",
       "2  With the help of three human allies, the Autob...  \n",
       "3  When a prison ship crash unleashes hundreds of...  \n",
       "4  When nerdy high schooler Dani finally attracts...  "
      ]
     },
     "execution_count": 2,
     "metadata": {},
     "output_type": "execute_result"
    }
   ],
   "source": [
    "df=pd.read_csv(r\"C:\\Users\\MY PC\\Desktop\\netflix\\netflix_titles.csv\")\n",
    "df.head()"
   ]
  },
  {
   "cell_type": "code",
   "execution_count": 3,
   "id": "038b199d",
   "metadata": {},
   "outputs": [
    {
     "data": {
      "text/plain": [
       "Index(['show_id', 'type', 'title', 'director', 'cast', 'country', 'date_added',\n",
       "       'release_year', 'rating', 'duration', 'listed_in', 'description'],\n",
       "      dtype='object')"
      ]
     },
     "execution_count": 3,
     "metadata": {},
     "output_type": "execute_result"
    }
   ],
   "source": [
    "df.columns"
   ]
  },
  {
   "cell_type": "code",
   "execution_count": 4,
   "id": "9d2d22cb",
   "metadata": {},
   "outputs": [
    {
     "data": {
      "text/plain": [
       "(6234, 12)"
      ]
     },
     "execution_count": 4,
     "metadata": {},
     "output_type": "execute_result"
    }
   ],
   "source": [
    "df.shape"
   ]
  },
  {
   "cell_type": "code",
   "execution_count": 5,
   "id": "487ddfcd",
   "metadata": {},
   "outputs": [
    {
     "data": {
      "text/plain": [
       "array(['Movie', 'TV Show'], dtype=object)"
      ]
     },
     "execution_count": 5,
     "metadata": {},
     "output_type": "execute_result"
    }
   ],
   "source": [
    "df[\"type\"].unique()"
   ]
  },
  {
   "cell_type": "code",
   "execution_count": 6,
   "id": "7b584b02",
   "metadata": {},
   "outputs": [
    {
     "data": {
      "text/plain": [
       "555"
      ]
     },
     "execution_count": 6,
     "metadata": {},
     "output_type": "execute_result"
    }
   ],
   "source": [
    "len(df[\"country\"].unique())"
   ]
  },
  {
   "cell_type": "code",
   "execution_count": 7,
   "id": "1894e85e",
   "metadata": {},
   "outputs": [
    {
     "data": {
      "text/plain": [
       "6234"
      ]
     },
     "execution_count": 7,
     "metadata": {},
     "output_type": "execute_result"
    }
   ],
   "source": [
    "len(df[\"show_id\"].unique())"
   ]
  },
  {
   "cell_type": "code",
   "execution_count": 8,
   "id": "e9059582",
   "metadata": {},
   "outputs": [
    {
     "data": {
      "text/plain": [
       "6172"
      ]
     },
     "execution_count": 8,
     "metadata": {},
     "output_type": "execute_result"
    }
   ],
   "source": [
    "len(df[\"title\"].unique())"
   ]
  },
  {
   "cell_type": "code",
   "execution_count": 9,
   "id": "726502b3",
   "metadata": {},
   "outputs": [
    {
     "data": {
      "text/plain": [
       "3302"
      ]
     },
     "execution_count": 9,
     "metadata": {},
     "output_type": "execute_result"
    }
   ],
   "source": [
    "len(df[\"director\"].unique())"
   ]
  },
  {
   "cell_type": "code",
   "execution_count": 10,
   "id": "b93cbaa3",
   "metadata": {},
   "outputs": [
    {
     "data": {
      "text/plain": [
       "5470"
      ]
     },
     "execution_count": 10,
     "metadata": {},
     "output_type": "execute_result"
    }
   ],
   "source": [
    "len(df[\"cast\"].unique())"
   ]
  },
  {
   "cell_type": "code",
   "execution_count": 11,
   "id": "ee4a18fb",
   "metadata": {},
   "outputs": [
    {
     "name": "stdout",
     "output_type": "stream",
     "text": [
      "15\n"
     ]
    },
    {
     "data": {
      "text/plain": [
       "array(['TV-PG', 'TV-MA', 'TV-Y7-FV', 'TV-Y7', 'TV-14', 'R', 'TV-Y', 'NR',\n",
       "       'PG-13', 'TV-G', 'PG', 'G', nan, 'UR', 'NC-17'], dtype=object)"
      ]
     },
     "execution_count": 11,
     "metadata": {},
     "output_type": "execute_result"
    }
   ],
   "source": [
    "print(len(df[\"rating\"].unique()))\n",
    "df[\"rating\"].unique()"
   ]
  },
  {
   "cell_type": "code",
   "execution_count": 12,
   "id": "87e2689c",
   "metadata": {},
   "outputs": [
    {
     "name": "stdout",
     "output_type": "stream",
     "text": [
      "[1925 1942 1943 1944 1945 1946 1947 1954 1955 1956 1958 1959 1960 1962\n",
      " 1963 1964 1965 1966 1967 1968 1969 1970 1971 1972 1973 1974 1975 1976\n",
      " 1977 1978 1979 1980 1981 1982 1983 1984 1985 1986 1987 1988 1989 1990\n",
      " 1991 1992 1993 1994 1995 1996 1997 1998 1999 2000 2001 2002 2003 2004\n",
      " 2005 2006 2007 2008 2009 2010 2011 2012 2013 2014 2015 2016 2017 2018\n",
      " 2019 2020]\n",
      "72\n"
     ]
    }
   ],
   "source": [
    "a=df[\"release_year\"].unique()\n",
    "print(np.sort(a))\n",
    "print(len(a))"
   ]
  },
  {
   "cell_type": "code",
   "execution_count": 13,
   "id": "6ce2e656",
   "metadata": {},
   "outputs": [
    {
     "name": "stdout",
     "output_type": "stream",
     "text": [
      "201\n"
     ]
    },
    {
     "data": {
      "text/plain": [
       "array(['90 min', '94 min', '1 Season', '99 min', '110 min', '60 min',\n",
       "       '78 min', '95 min', '58 min', '62 min', '65 min', '61 min',\n",
       "       '135 min', '98 min', '96 min', '79 min', '113 min', '80 min',\n",
       "       '77 min', '112 min', '106 min', '102 min', '114 min', '125 min',\n",
       "       '142 min', '133 min', '100 min', '86 min', '146 min', '10 min',\n",
       "       '122 min', '126 min', '116 min', '130 min', '70 min', '128 min',\n",
       "       '88 min', '108 min', '93 min', '64 min', '107 min', '92 min',\n",
       "       '111 min', '103 min', '40 min', '85 min', '72 min', '45 min',\n",
       "       '89 min', '24 min', '127 min', '163 min', '117 min', '42 min',\n",
       "       '104 min', '75 min', '82 min', '38 min', '97 min', '81 min',\n",
       "       '91 min', '152 min', '87 min', '121 min', '101 min', '119 min',\n",
       "       '83 min', '182 min', '124 min', '63 min', '139 min', '171 min',\n",
       "       '84 min', '69 min', '76 min', '41 min', '153 min', '141 min',\n",
       "       '52 min', '137 min', '132 min', '157 min', '109 min', '105 min',\n",
       "       '25 min', '71 min', '123 min', '67 min', '140 min', '138 min',\n",
       "       '149 min', '47 min', '68 min', '148 min', '54 min', '151 min',\n",
       "       '155 min', '162 min', '28 min', '160 min', '29 min', '57 min',\n",
       "       '46 min', '73 min', '74 min', '118 min', '66 min', '14 min',\n",
       "       '20 min', '115 min', '48 min', '168 min', '144 min', '161 min',\n",
       "       '55 min', '56 min', '51 min', '50 min', '23 min', '205 min',\n",
       "       '190 min', '131 min', '22 min', '59 min', '150 min', '159 min',\n",
       "       '145 min', '158 min', '143 min', '154 min', '147 min', '129 min',\n",
       "       '214 min', '136 min', '134 min', '44 min', '156 min', '30 min',\n",
       "       '120 min', '209 min', '166 min', '200 min', '185 min', '36 min',\n",
       "       '11 min', '53 min', '165 min', '164 min', '19 min', '177 min',\n",
       "       '32 min', '18 min', '170 min', '187 min', '173 min', '12 min',\n",
       "       '3 min', '176 min', '15 min', '49 min', '26 min', '37 min',\n",
       "       '189 min', '201 min', '179 min', '191 min', '193 min', '192 min',\n",
       "       '43 min', '172 min', '224 min', '27 min', '181 min', '178 min',\n",
       "       '228 min', '34 min', '312 min', '174 min', '169 min', '35 min',\n",
       "       '31 min', '180 min', '196 min', '167 min', '33 min', '203 min',\n",
       "       '195 min', '2 Seasons', '5 Seasons', '3 Seasons', '7 Seasons',\n",
       "       '4 Seasons', '8 Seasons', '6 Seasons', '9 Seasons', '14 Seasons',\n",
       "       '10 Seasons', '12 Seasons', '15 Seasons', '11 Seasons',\n",
       "       '13 Seasons'], dtype=object)"
      ]
     },
     "execution_count": 13,
     "metadata": {},
     "output_type": "execute_result"
    }
   ],
   "source": [
    "print(len(df[\"duration\"].unique()))\n",
    "df[\"duration\"].unique()"
   ]
  },
  {
   "cell_type": "code",
   "execution_count": 14,
   "id": "785445ab",
   "metadata": {},
   "outputs": [
    {
     "name": "stdout",
     "output_type": "stream",
     "text": [
      "461\n"
     ]
    },
    {
     "data": {
      "text/plain": [
       "array(['Children & Family Movies, Comedies', 'Stand-Up Comedy',\n",
       "       \"Kids' TV\", 'Comedies',\n",
       "       'Crime TV Shows, International TV Shows, Spanish-Language TV Shows',\n",
       "       'International Movies, Sci-Fi & Fantasy, Thrillers',\n",
       "       'Docuseries, Science & Nature TV', 'Action & Adventure, Thrillers',\n",
       "       'Action & Adventure, Dramas, International Movies',\n",
       "       'Children & Family Movies',\n",
       "       'Cult Movies, Dramas, Independent Movies',\n",
       "       'Comedies, Independent Movies, Romantic Movies',\n",
       "       'Action & Adventure, Comedies, International Movies',\n",
       "       'Documentaries', 'Horror Movies, Thrillers',\n",
       "       'Dramas, Independent Movies',\n",
       "       'Dramas, Independent Movies, Romantic Movies',\n",
       "       'International TV Shows, Romantic TV Shows, TV Comedies',\n",
       "       'Docuseries', 'Horror Movies, International Movies',\n",
       "       'Children & Family Movies, Comedies, Sci-Fi & Fantasy',\n",
       "       'Comedies, Romantic Movies',\n",
       "       'Dramas, International Movies, Thrillers',\n",
       "       'Dramas, Independent Movies, International Movies',\n",
       "       \"Kids' TV, TV Comedies\", 'Comedies, Dramas, Independent Movies',\n",
       "       'Comedies, International Movies',\n",
       "       'Comedies, International Movies, Romantic Movies',\n",
       "       'International TV Shows, TV Dramas, TV Thrillers',\n",
       "       'Action & Adventure, Comedies, Independent Movies',\n",
       "       'Comedies, Dramas, International Movies',\n",
       "       'Dramas, International Movies, Romantic Movies',\n",
       "       'Comedies, Dramas', 'Romantic TV Shows, TV Comedies, TV Dramas',\n",
       "       'Horror Movies', 'Dramas, Romantic Movies',\n",
       "       'Action & Adventure, Sci-Fi & Fantasy',\n",
       "       'Crime TV Shows, TV Dramas, TV Mysteries', 'TV Comedies',\n",
       "       'Children & Family Movies, Dramas', 'Dramas, International Movies',\n",
       "       'British TV Shows, Docuseries, International TV Shows',\n",
       "       'International TV Shows, Romantic TV Shows, TV Dramas',\n",
       "       'Action & Adventure', 'Action & Adventure, International Movies',\n",
       "       'International TV Shows, TV Comedies, TV Dramas',\n",
       "       'Documentaries, International Movies',\n",
       "       'International TV Shows, TV Dramas',\n",
       "       'Children & Family Movies, Music & Musicals',\n",
       "       'International Movies, Thrillers',\n",
       "       'Action & Adventure, International Movies, Sci-Fi & Fantasy',\n",
       "       'Action & Adventure, Dramas',\n",
       "       'International TV Shows, Reality TV, Spanish-Language TV Shows',\n",
       "       'International TV Shows, TV Action & Adventure, TV Dramas',\n",
       "       'Dramas, Sci-Fi & Fantasy, Thrillers',\n",
       "       'Crime TV Shows, International TV Shows, TV Dramas',\n",
       "       'Anime Features, Music & Musicals, Sci-Fi & Fantasy',\n",
       "       'TV Comedies, TV Dramas, Teen TV Shows',\n",
       "       'Children & Family Movies, Dramas, Faith & Spirituality',\n",
       "       'International Movies, Romantic Movies',\n",
       "       'Comedies, International Movies, Music & Musicals',\n",
       "       'Comedies, Independent Movies, Thrillers',\n",
       "       'Comedies, Horror Movies, International Movies',\n",
       "       'TV Comedies, TV Dramas', 'Documentaries, Music & Musicals',\n",
       "       'Independent Movies, International Movies, Thrillers',\n",
       "       'Dramas, Independent Movies, Thrillers',\n",
       "       'International TV Shows, Korean TV Shows, TV Action & Adventure',\n",
       "       'Reality TV, Science & Nature TV, TV Action & Adventure',\n",
       "       'Anime Series, International TV Shows',\n",
       "       'TV Comedies, TV Dramas, TV Mysteries',\n",
       "       'Crime TV Shows, TV Comedies, TV Dramas',\n",
       "       'British TV Shows, Crime TV Shows, International TV Shows',\n",
       "       'Dramas, Independent Movies, LGBTQ Movies',\n",
       "       'TV Horror, Teen TV Shows',\n",
       "       'Crime TV Shows, International TV Shows, TV Action & Adventure',\n",
       "       'Dramas, Thrillers',\n",
       "       'Independent Movies, Sci-Fi & Fantasy, Thrillers',\n",
       "       'International TV Shows, Korean TV Shows, Romantic TV Shows',\n",
       "       'Horror Movies, Independent Movies',\n",
       "       'British TV Shows, Crime TV Shows, Docuseries',\n",
       "       'Action & Adventure, Comedies, Cult Movies', 'Movies',\n",
       "       \"Anime Series, Kids' TV\", 'Crime TV Shows, Docuseries',\n",
       "       'Documentaries, International Movies, Music & Musicals',\n",
       "       'Reality TV',\n",
       "       'British TV Shows, International TV Shows, Reality TV', 'Dramas',\n",
       "       'Action & Adventure, Independent Movies',\n",
       "       'British TV Shows, Crime TV Shows, TV Dramas',\n",
       "       'Docuseries, International TV Shows',\n",
       "       'Docuseries, International TV Shows, Spanish-Language TV Shows',\n",
       "       'Stand-Up Comedy & Talk Shows, TV Comedies',\n",
       "       'International TV Shows, Romantic TV Shows, TV Action & Adventure',\n",
       "       'Thrillers', 'Anime Series, International TV Shows, TV Horror',\n",
       "       'International TV Shows, TV Dramas, TV Horror',\n",
       "       'International TV Shows, Spanish-Language TV Shows, TV Dramas',\n",
       "       'Children & Family Movies, Comedies, Romantic Movies',\n",
       "       'Crime TV Shows, TV Dramas',\n",
       "       'TV Action & Adventure, TV Dramas, TV Sci-Fi & Fantasy',\n",
       "       'International TV Shows, Korean TV Shows, TV Dramas',\n",
       "       \"Docuseries, Kids' TV, Science & Nature TV\",\n",
       "       'International TV Shows, Reality TV',\n",
       "       'Comedies, Cult Movies, Dramas',\n",
       "       'Classic Movies, Comedies, Cult Movies', 'Comedies, Cult Movies',\n",
       "       'Dramas, Romantic Movies, Sci-Fi & Fantasy',\n",
       "       'Horror Movies, Independent Movies, Thrillers',\n",
       "       'Action & Adventure, Romantic Movies',\n",
       "       'Action & Adventure, Comedies',\n",
       "       'Documentaries, International Movies, Sports Movies',\n",
       "       'Independent Movies, Thrillers',\n",
       "       'Children & Family Movies, Comedies, Dramas',\n",
       "       'Comedies, Cult Movies, Horror Movies',\n",
       "       'Comedies, Independent Movies, International Movies',\n",
       "       'Dramas, International Movies, Sports Movies',\n",
       "       'Horror Movies, International Movies, Thrillers',\n",
       "       'Action & Adventure, Anime Features, International Movies',\n",
       "       'Dramas, International Movies, Music & Musicals',\n",
       "       'Docuseries, Reality TV', 'Comedies, Horror Movies',\n",
       "       'Documentaries, Sports Movies',\n",
       "       'Classic Movies, Comedies, Independent Movies',\n",
       "       'Documentaries, LGBTQ Movies, Music & Musicals',\n",
       "       'British TV Shows, Docuseries',\n",
       "       'British TV Shows, TV Horror, TV Thrillers',\n",
       "       'Children & Family Movies, Dramas, Sports Movies',\n",
       "       'Documentaries, LGBTQ Movies',\n",
       "       'International TV Shows, Korean TV Shows, TV Comedies',\n",
       "       \"Kids' TV, TV Action & Adventure, TV Dramas\",\n",
       "       'Anime Series, International TV Shows, Romantic TV Shows',\n",
       "       'Dramas, Romantic Movies, Sports Movies',\n",
       "       'Anime Series, Crime TV Shows',\n",
       "       'International TV Shows, TV Comedies',\n",
       "       'International TV Shows, Romantic TV Shows, Teen TV Shows',\n",
       "       'Stand-Up Comedy & Talk Shows, TV Mysteries, TV Sci-Fi & Fantasy',\n",
       "       'Dramas, Sports Movies',\n",
       "       'Crime TV Shows, Docuseries, International TV Shows',\n",
       "       'Horror Movies, Sci-Fi & Fantasy, Thrillers',\n",
       "       'International Movies', 'Reality TV, TV Comedies, TV Horror',\n",
       "       'International TV Shows, TV Action & Adventure, TV Mysteries',\n",
       "       'TV Action & Adventure, TV Comedies, TV Horror',\n",
       "       'TV Dramas, TV Horror, TV Mysteries',\n",
       "       'Documentaries, Stand-Up Comedy',\n",
       "       'Cult Movies, Horror Movies, Independent Movies',\n",
       "       'International Movies, Music & Musicals, Romantic Movies',\n",
       "       'Comedies, Independent Movies',\n",
       "       'Children & Family Movies, Dramas, International Movies',\n",
       "       'TV Dramas, TV Thrillers', 'Dramas, Faith & Spirituality',\n",
       "       'British TV Shows, Reality TV', 'Comedies, Music & Musicals',\n",
       "       'British TV Shows, Docuseries, TV Comedies',\n",
       "       'Comedies, Documentaries', 'British TV Shows, TV Comedies',\n",
       "       'Action & Adventure, Comedies, Sci-Fi & Fantasy',\n",
       "       'Docuseries, International TV Shows, Science & Nature TV',\n",
       "       'British TV Shows, International TV Shows, Romantic TV Shows',\n",
       "       \"Kids' TV, Korean TV Shows\",\n",
       "       'Dramas, Faith & Spirituality, International Movies',\n",
       "       'Children & Family Movies, Documentaries, International Movies',\n",
       "       \"Kids' TV, TV Thrillers\",\n",
       "       'Dramas, Independent Movies, Sci-Fi & Fantasy',\n",
       "       'International TV Shows',\n",
       "       'Action & Adventure, International Movies, Romantic Movies',\n",
       "       'Comedies, International Movies, Sports Movies',\n",
       "       'Action & Adventure, Anime Features, Sci-Fi & Fantasy',\n",
       "       'Anime Series, Crime TV Shows, International TV Shows',\n",
       "       'Docuseries, Stand-Up Comedy & Talk Shows',\n",
       "       'Crime TV Shows, International TV Shows, Korean TV Shows',\n",
       "       'Horror Movies, International Movies, Sci-Fi & Fantasy',\n",
       "       'TV Comedies, TV Mysteries', 'Music & Musicals',\n",
       "       'Children & Family Movies, Sci-Fi & Fantasy',\n",
       "       'International Movies, Music & Musicals',\n",
       "       'British TV Shows, Docuseries, Science & Nature TV',\n",
       "       'Cult Movies, Horror Movies',\n",
       "       'Classic Movies, Dramas, International Movies',\n",
       "       'Sci-Fi & Fantasy, Thrillers',\n",
       "       'Classic Movies, Dramas, Sports Movies',\n",
       "       'Children & Family Movies, Comedies, Sports Movies',\n",
       "       'Action & Adventure, Comedies, Romantic Movies',\n",
       "       'Comedies, Cult Movies, International Movies',\n",
       "       'Romantic TV Shows, TV Comedies',\n",
       "       'Action & Adventure, Documentaries, International Movies',\n",
       "       'Comedies, International Movies, Sci-Fi & Fantasy',\n",
       "       'Action & Adventure, International Movies, Music & Musicals',\n",
       "       'Action & Adventure, Dramas, Sci-Fi & Fantasy',\n",
       "       'Dramas, Faith & Spirituality, Romantic Movies', 'Anime Features',\n",
       "       'Anime Series', 'Docuseries, TV Dramas',\n",
       "       \"Kids' TV, TV Action & Adventure, TV Comedies\",\n",
       "       'Comedies, Dramas, LGBTQ Movies',\n",
       "       'Crime TV Shows, International TV Shows, TV Sci-Fi & Fantasy',\n",
       "       'International Movies, LGBTQ Movies, Romantic Movies',\n",
       "       'Dramas, International Movies, Sci-Fi & Fantasy',\n",
       "       'International TV Shows, Romantic TV Shows, Spanish-Language TV Shows',\n",
       "       'Children & Family Movies, Dramas, Romantic Movies',\n",
       "       'Comedies, International Movies, Thrillers',\n",
       "       'International TV Shows, Stand-Up Comedy & Talk Shows, TV Comedies',\n",
       "       'International TV Shows, Spanish-Language TV Shows, Stand-Up Comedy & Talk Shows',\n",
       "       'Action & Adventure, Children & Family Movies, Comedies',\n",
       "       'Children & Family Movies, Classic Movies',\n",
       "       'International TV Shows, TV Comedies, TV Sci-Fi & Fantasy',\n",
       "       'TV Shows', 'TV Dramas',\n",
       "       'Horror Movies, Independent Movies, International Movies',\n",
       "       'Comedies, Dramas, Romantic Movies', 'Comedies, Sci-Fi & Fantasy',\n",
       "       'Comedies, Sports Movies',\n",
       "       'Action & Adventure, Classic Movies, International Movies',\n",
       "       'Classic Movies, Comedies, Sports Movies',\n",
       "       'Classic Movies, Dramas, Independent Movies',\n",
       "       'Cult Movies, Dramas, Thrillers',\n",
       "       'Comedies, International Movies, LGBTQ Movies',\n",
       "       'International TV Shows, TV Dramas, Teen TV Shows',\n",
       "       'Spanish-Language TV Shows, TV Dramas',\n",
       "       'Romantic TV Shows, Spanish-Language TV Shows, TV Comedies',\n",
       "       'Action & Adventure, Dramas, Independent Movies',\n",
       "       'Crime TV Shows, TV Action & Adventure, TV Dramas',\n",
       "       'Docuseries, International TV Shows, Reality TV',\n",
       "       'Action & Adventure, Independent Movies, Sci-Fi & Fantasy',\n",
       "       'International TV Shows, Romantic TV Shows',\n",
       "       'Anime Features, International Movies, Romantic Movies',\n",
       "       'Anime Series, International TV Shows, Teen TV Shows',\n",
       "       'Docuseries, Spanish-Language TV Shows',\n",
       "       'TV Horror, TV Mysteries, TV Sci-Fi & Fantasy',\n",
       "       'International TV Shows, TV Action & Adventure, TV Comedies',\n",
       "       'Classic Movies, Dramas, Romantic Movies',\n",
       "       'Classic Movies, Dramas', 'Action & Adventure, Classic Movies',\n",
       "       'Dramas, International Movies, LGBTQ Movies',\n",
       "       'Action & Adventure, Classic Movies, Sci-Fi & Fantasy',\n",
       "       'Classic Movies, Comedies, Music & Musicals',\n",
       "       'Action & Adventure, Horror Movies, Sci-Fi & Fantasy',\n",
       "       'Action & Adventure, Classic Movies, Cult Movies',\n",
       "       'Anime Series, Romantic TV Shows',\n",
       "       'Action & Adventure, Classic Movies, Dramas',\n",
       "       'Action & Adventure, Classic Movies, Comedies',\n",
       "       'Classic Movies, Horror Movies, Thrillers',\n",
       "       'Dramas, Music & Musicals',\n",
       "       'International TV Shows, TV Dramas, TV Mysteries',\n",
       "       'Dramas, Music & Musicals, Sports Movies',\n",
       "       'International Movies, Sci-Fi & Fantasy',\n",
       "       'International TV Shows, Stand-Up Comedy & Talk Shows',\n",
       "       'Action & Adventure, Comedies, Music & Musicals',\n",
       "       'International TV Shows, TV Dramas, TV Sci-Fi & Fantasy',\n",
       "       'Children & Family Movies, Comedies, Music & Musicals',\n",
       "       'Children & Family Movies, Documentaries',\n",
       "       'Comedies, LGBTQ Movies',\n",
       "       'Crime TV Shows, International TV Shows, TV Comedies',\n",
       "       'Action & Adventure, Horror Movies, International Movies',\n",
       "       'TV Dramas, TV Sci-Fi & Fantasy',\n",
       "       'Horror Movies, LGBTQ Movies, Thrillers',\n",
       "       'Comedies, Music & Musicals, Sports Movies',\n",
       "       'International TV Shows, Korean TV Shows, Reality TV',\n",
       "       'Documentaries, International Movies, LGBTQ Movies',\n",
       "       'Crime TV Shows, Docuseries, TV Mysteries',\n",
       "       'Dramas, Independent Movies, Sports Movies',\n",
       "       'Romantic TV Shows, Spanish-Language TV Shows, TV Dramas',\n",
       "       'Action & Adventure, Sci-Fi & Fantasy, Thrillers', 'Sports Movies',\n",
       "       'Children & Family Movies, Comedies, International Movies',\n",
       "       \"British TV Shows, Kids' TV, TV Comedies\",\n",
       "       \"Kids' TV, Spanish-Language TV Shows\",\n",
       "       'Action & Adventure, Anime Features, Classic Movies',\n",
       "       'Cult Movies, Independent Movies, Thrillers',\n",
       "       'Comedies, Cult Movies, Independent Movies',\n",
       "       'Action & Adventure, Comedies, Dramas', 'TV Dramas, Teen TV Shows',\n",
       "       'Action & Adventure, Independent Movies, International Movies',\n",
       "       'Classic & Cult TV, TV Dramas, TV Sci-Fi & Fantasy',\n",
       "       'Action & Adventure, Cult Movies, International Movies',\n",
       "       'International TV Shows, TV Horror, TV Mysteries',\n",
       "       'Action & Adventure, Comedies, Horror Movies',\n",
       "       'British TV Shows, International TV Shows, TV Comedies',\n",
       "       'Action & Adventure, Horror Movies',\n",
       "       'Crime TV Shows, TV Dramas, TV Thrillers',\n",
       "       'Classic Movies, Documentaries',\n",
       "       'British TV Shows, Romantic TV Shows, TV Dramas',\n",
       "       'Documentaries, Faith & Spirituality, Music & Musicals',\n",
       "       \"British TV Shows, Kids' TV\",\n",
       "       'International TV Shows, Spanish-Language TV Shows, TV Comedies',\n",
       "       'British TV Shows, International TV Shows, TV Dramas',\n",
       "       'Comedies, Horror Movies, Independent Movies',\n",
       "       'British TV Shows, International TV Shows, Stand-Up Comedy & Talk Shows',\n",
       "       'Comedies, Dramas, Music & Musicals',\n",
       "       'Action & Adventure, Children & Family Movies, Independent Movies',\n",
       "       'Children & Family Movies, Comedies, Cult Movies',\n",
       "       'TV Action & Adventure, TV Horror, TV Sci-Fi & Fantasy',\n",
       "       'Anime Features, Children & Family Movies, International Movies',\n",
       "       'TV Comedies, TV Sci-Fi & Fantasy',\n",
       "       'Documentaries, Dramas, International Movies',\n",
       "       'Reality TV, Teen TV Shows', 'Reality TV, Science & Nature TV',\n",
       "       'Children & Family Movies, Dramas, Independent Movies',\n",
       "       'International TV Shows, TV Horror, TV Thrillers',\n",
       "       'International Movies, Sports Movies',\n",
       "       'Comedies, Faith & Spirituality, Romantic Movies',\n",
       "       'Anime Features, International Movies',\n",
       "       'Children & Family Movies, Dramas, Music & Musicals',\n",
       "       'Children & Family Movies, Faith & Spirituality',\n",
       "       'Horror Movies, International Movies, Romantic Movies',\n",
       "       'Action & Adventure, Horror Movies, Independent Movies',\n",
       "       'Documentaries, Faith & Spirituality, International Movies',\n",
       "       'Music & Musicals, Stand-Up Comedy', 'Romantic Movies',\n",
       "       'Crime TV Shows, Docuseries, Science & Nature TV',\n",
       "       'Dramas, Independent Movies, Music & Musicals',\n",
       "       'International Movies, Music & Musicals, Thrillers',\n",
       "       'Action & Adventure, Children & Family Movies, Sci-Fi & Fantasy',\n",
       "       'Dramas, LGBTQ Movies', 'Documentaries, Faith & Spirituality',\n",
       "       'Action & Adventure, International Movies, Thrillers',\n",
       "       'Classic Movies, Cult Movies, Horror Movies',\n",
       "       'Crime TV Shows, Spanish-Language TV Shows, TV Dramas',\n",
       "       'Dramas, Music & Musicals, Romantic Movies',\n",
       "       'Action & Adventure, Romantic Movies, Sci-Fi & Fantasy',\n",
       "       'Action & Adventure, International Movies, Sports Movies',\n",
       "       'Action & Adventure, Children & Family Movies',\n",
       "       'Crime TV Shows, International TV Shows, Romantic TV Shows',\n",
       "       'Comedies, Faith & Spirituality, International Movies',\n",
       "       'TV Action & Adventure, TV Dramas, TV Mysteries',\n",
       "       'Documentaries, Horror Movies',\n",
       "       \"Kids' TV, TV Action & Adventure, TV Sci-Fi & Fantasy\",\n",
       "       'Classic Movies, Dramas, Thrillers',\n",
       "       'Stand-Up Comedy & Talk Shows',\n",
       "       'Anime Features, Children & Family Movies',\n",
       "       'Children & Family Movies, Classic Movies, Comedies',\n",
       "       'British TV Shows, Reality TV, Romantic TV Shows',\n",
       "       'International TV Shows, TV Action & Adventure, TV Sci-Fi & Fantasy',\n",
       "       'Classic Movies, Comedies, Dramas',\n",
       "       'Classic Movies, Dramas, LGBTQ Movies',\n",
       "       'Children & Family Movies, Independent Movies',\n",
       "       'Comedies, Independent Movies, LGBTQ Movies',\n",
       "       'Crime TV Shows, TV Dramas, TV Sci-Fi & Fantasy',\n",
       "       'Docuseries, Reality TV, Teen TV Shows',\n",
       "       'Anime Series, Crime TV Shows, TV Thrillers',\n",
       "       'Comedies, Dramas, Sports Movies',\n",
       "       'Comedies, Dramas, Faith & Spirituality',\n",
       "       'Dramas, Sci-Fi & Fantasy',\n",
       "       'Action & Adventure, Anime Features, Children & Family Movies',\n",
       "       'Classic & Cult TV, Crime TV Shows, International TV Shows',\n",
       "       \"Kids' TV, TV Comedies, TV Dramas\",\n",
       "       'International TV Shows, Reality TV, Romantic TV Shows',\n",
       "       'Crime TV Shows, TV Action & Adventure, TV Comedies',\n",
       "       'International TV Shows, Reality TV, TV Comedies',\n",
       "       'Anime Series, Teen TV Shows', 'Horror Movies, Sci-Fi & Fantasy',\n",
       "       'Cult Movies, Horror Movies, Thrillers',\n",
       "       'Comedies, Cult Movies, Sports Movies',\n",
       "       'Classic Movies, Dramas, Music & Musicals',\n",
       "       'Classic Movies, Comedies, Romantic Movies',\n",
       "       'Dramas, Horror Movies, Music & Musicals',\n",
       "       'Classic Movies, Independent Movies, Thrillers',\n",
       "       'Comedies, Horror Movies, Sci-Fi & Fantasy', 'Independent Movies',\n",
       "       'Action & Adventure, Children & Family Movies, Classic Movies',\n",
       "       'Classic Movies, Cult Movies, Dramas',\n",
       "       'Action & Adventure, Cult Movies, Sci-Fi & Fantasy',\n",
       "       'Action & Adventure, Sports Movies',\n",
       "       'Comedies, Music & Musicals, Romantic Movies',\n",
       "       'TV Action & Adventure, TV Dramas',\n",
       "       'Horror Movies, Independent Movies, Sci-Fi & Fantasy',\n",
       "       'International TV Shows, Korean TV Shows, Stand-Up Comedy & Talk Shows',\n",
       "       'Action & Adventure, Anime Features, Horror Movies',\n",
       "       'Docuseries, TV Comedies',\n",
       "       'International TV Shows, Spanish-Language TV Shows, TV Horror',\n",
       "       'TV Action & Adventure, TV Mysteries, TV Sci-Fi & Fantasy',\n",
       "       'Reality TV, Romantic TV Shows',\n",
       "       'Crime TV Shows, Romantic TV Shows, Spanish-Language TV Shows',\n",
       "       'Classic Movies, Cult Movies, Documentaries',\n",
       "       'Action & Adventure, Children & Family Movies, Dramas',\n",
       "       'Romantic TV Shows, TV Dramas',\n",
       "       'TV Action & Adventure, TV Dramas, TV Horror',\n",
       "       'Classic Movies, Comedies, International Movies',\n",
       "       'Action & Adventure, Cult Movies',\n",
       "       \"Classic & Cult TV, Kids' TV, Spanish-Language TV Shows\",\n",
       "       'Action & Adventure, Faith & Spirituality, Sci-Fi & Fantasy',\n",
       "       'Crime TV Shows, Romantic TV Shows, TV Dramas',\n",
       "       'Anime Features, Romantic Movies',\n",
       "       'British TV Shows, International TV Shows, TV Action & Adventure',\n",
       "       'Children & Family Movies, Sports Movies',\n",
       "       'International TV Shows, Spanish-Language TV Shows, TV Action & Adventure',\n",
       "       'Anime Series, International TV Shows, TV Thrillers',\n",
       "       'Sci-Fi & Fantasy', 'Crime TV Shows, TV Comedies',\n",
       "       'Reality TV, TV Comedies',\n",
       "       'Action & Adventure, Documentaries, Sports Movies',\n",
       "       'Action & Adventure, Dramas, Faith & Spirituality',\n",
       "       'Children & Family Movies, Documentaries, Sports Movies',\n",
       "       'International TV Shows, Reality TV, TV Action & Adventure',\n",
       "       \"Crime TV Shows, Kids' TV, TV Comedies\",\n",
       "       'Children & Family Movies, Comedies, LGBTQ Movies',\n",
       "       'TV Action & Adventure, TV Sci-Fi & Fantasy',\n",
       "       'British TV Shows, TV Dramas, TV Sci-Fi & Fantasy',\n",
       "       'Dramas, Horror Movies, Sci-Fi & Fantasy',\n",
       "       'International TV Shows, TV Mysteries, TV Thrillers',\n",
       "       'Comedies, Cult Movies, LGBTQ Movies',\n",
       "       'Action & Adventure, Cult Movies, Dramas',\n",
       "       'Comedies, Independent Movies, Music & Musicals',\n",
       "       'British TV Shows, Docuseries, Reality TV',\n",
       "       'British TV Shows, International TV Shows, TV Horror',\n",
       "       'TV Dramas, TV Sci-Fi & Fantasy, Teen TV Shows',\n",
       "       'TV Horror, TV Mysteries, Teen TV Shows',\n",
       "       'Independent Movies, Romantic Movies',\n",
       "       'TV Dramas, TV Mysteries, TV Sci-Fi & Fantasy',\n",
       "       'Children & Family Movies, Comedies, Faith & Spirituality',\n",
       "       'Romantic TV Shows, TV Dramas, TV Sci-Fi & Fantasy',\n",
       "       'Dramas, Faith & Spirituality, Independent Movies',\n",
       "       \"Kids' TV, Reality TV, Science & Nature TV\",\n",
       "       'International Movies, Romantic Movies, Sci-Fi & Fantasy',\n",
       "       'Anime Series, Romantic TV Shows, Teen TV Shows',\n",
       "       'Classic & Cult TV, TV Horror, TV Mysteries',\n",
       "       'TV Action & Adventure, TV Comedies',\n",
       "       'TV Sci-Fi & Fantasy, TV Thrillers',\n",
       "       'TV Horror, TV Mysteries, TV Thrillers',\n",
       "       'TV Action & Adventure, TV Comedies, TV Sci-Fi & Fantasy',\n",
       "       'Crime TV Shows, TV Comedies, Teen TV Shows',\n",
       "       'Crime TV Shows, TV Horror, TV Mysteries',\n",
       "       'Classic & Cult TV, TV Action & Adventure, TV Dramas',\n",
       "       'British TV Shows, Classic & Cult TV, TV Comedies',\n",
       "       \"British TV Shows, Kids' TV, TV Thrillers\",\n",
       "       'Anime Series, TV Horror, TV Thrillers',\n",
       "       \"Kids' TV, TV Dramas, Teen TV Shows\", 'TV Comedies, Teen TV Shows',\n",
       "       'British TV Shows, Classic & Cult TV, International TV Shows',\n",
       "       'Crime TV Shows, TV Action & Adventure',\n",
       "       'Docuseries, Reality TV, Science & Nature TV',\n",
       "       \"Crime TV Shows, Kids' TV\", 'Reality TV, TV Horror, TV Thrillers',\n",
       "       'TV Dramas, TV Sci-Fi & Fantasy, TV Thrillers',\n",
       "       'Classic & Cult TV, TV Action & Adventure, TV Sci-Fi & Fantasy',\n",
       "       \"Kids' TV, TV Dramas\",\n",
       "       'Docuseries, Science & Nature TV, TV Dramas',\n",
       "       'Classic & Cult TV, TV Action & Adventure, TV Horror',\n",
       "       'TV Dramas, TV Mysteries, TV Thrillers',\n",
       "       'Crime TV Shows, TV Action & Adventure, TV Sci-Fi & Fantasy',\n",
       "       'TV Comedies, TV Horror, TV Thrillers', 'TV Action & Adventure',\n",
       "       \"Kids' TV, Korean TV Shows, TV Comedies\",\n",
       "       \"Kids' TV, Spanish-Language TV Shows, Teen TV Shows\",\n",
       "       \"British TV Shows, Kids' TV, TV Dramas\",\n",
       "       'Crime TV Shows, Spanish-Language TV Shows, TV Action & Adventure',\n",
       "       'Classic & Cult TV, TV Comedies',\n",
       "       'Classic & Cult TV, TV Sci-Fi & Fantasy',\n",
       "       'Classic & Cult TV, Crime TV Shows, TV Dramas',\n",
       "       'Crime TV Shows, TV Action & Adventure, TV Thrillers',\n",
       "       'Crime TV Shows, International TV Shows, Reality TV',\n",
       "       'Crime TV Shows, TV Dramas, TV Horror',\n",
       "       \"Kids' TV, TV Action & Adventure\",\n",
       "       'TV Comedies, TV Sci-Fi & Fantasy, Teen TV Shows',\n",
       "       \"Classic & Cult TV, Kids' TV, TV Comedies\",\n",
       "       'British TV Shows, TV Comedies, TV Dramas',\n",
       "       'Romantic TV Shows, TV Action & Adventure, TV Dramas',\n",
       "       'TV Comedies, TV Dramas, TV Horror',\n",
       "       'Reality TV, Spanish-Language TV Shows'], dtype=object)"
      ]
     },
     "execution_count": 14,
     "metadata": {},
     "output_type": "execute_result"
    }
   ],
   "source": [
    "print(len(df[\"listed_in\"].unique()))\n",
    "df[\"listed_in\"].unique()"
   ]
  },
  {
   "cell_type": "code",
   "execution_count": 15,
   "id": "1d297ae1",
   "metadata": {},
   "outputs": [
    {
     "data": {
      "text/plain": [
       "6226"
      ]
     },
     "execution_count": 15,
     "metadata": {},
     "output_type": "execute_result"
    }
   ],
   "source": [
    "len(df[\"description\"].unique())"
   ]
  },
  {
   "cell_type": "markdown",
   "id": "d0bd1039",
   "metadata": {},
   "source": [
    "# Data Cleaning"
   ]
  },
  {
   "cell_type": "markdown",
   "id": "0307d3c0",
   "metadata": {},
   "source": [
    "## 1. Dropping unnecessary column"
   ]
  },
  {
   "cell_type": "code",
   "execution_count": 16,
   "id": "344e31c6",
   "metadata": {},
   "outputs": [],
   "source": [
    "df=pd.DataFrame(df)\n",
    "df1=df.drop(['show_id'],axis=1)"
   ]
  },
  {
   "cell_type": "markdown",
   "id": "6adb2d77",
   "metadata": {},
   "source": [
    "## 2. Dealing with missing Values"
   ]
  },
  {
   "cell_type": "code",
   "execution_count": 17,
   "id": "a3f6be1d",
   "metadata": {},
   "outputs": [
    {
     "data": {
      "text/plain": [
       "type               0\n",
       "title              0\n",
       "director        1969\n",
       "cast             570\n",
       "country          476\n",
       "date_added        11\n",
       "release_year       0\n",
       "rating            10\n",
       "duration           0\n",
       "listed_in          0\n",
       "description        0\n",
       "dtype: int64"
      ]
     },
     "execution_count": 17,
     "metadata": {},
     "output_type": "execute_result"
    }
   ],
   "source": [
    "df1.isnull().sum()"
   ]
  },
  {
   "cell_type": "markdown",
   "id": "d394d3eb",
   "metadata": {},
   "source": [
    "#### Number of missing values in director, cast, country columns are high compare to the other columns of date_added and rating."
   ]
  },
  {
   "cell_type": "code",
   "execution_count": 18,
   "id": "814d4f8c",
   "metadata": {},
   "outputs": [],
   "source": [
    "# Filling missing values with 'NA' for columns 'director','cast','country'\n",
    "\n",
    "df2 = df1.copy()\n",
    "df2[['director', 'cast', 'country']]=df1.loc[:,['director','cast','country']].fillna('NA')"
   ]
  },
  {
   "cell_type": "code",
   "execution_count": 19,
   "id": "d99b9dd9",
   "metadata": {},
   "outputs": [
    {
     "data": {
      "text/plain": [
       "TV-MA       2027\n",
       "TV-14       1698\n",
       "TV-PG        701\n",
       "R            508\n",
       "PG-13        286\n",
       "NR           218\n",
       "PG           184\n",
       "TV-Y7        169\n",
       "TV-G         149\n",
       "TV-Y         143\n",
       "TV-Y7-FV      95\n",
       "G             37\n",
       "UR             7\n",
       "NC-17          2\n",
       "Name: rating, dtype: int64"
      ]
     },
     "execution_count": 19,
     "metadata": {},
     "output_type": "execute_result"
    }
   ],
   "source": [
    "df2.rating.value_counts()"
   ]
  },
  {
   "cell_type": "code",
   "execution_count": 20,
   "id": "a73add93",
   "metadata": {},
   "outputs": [
    {
     "data": {
      "text/plain": [
       "TV-MA       2037\n",
       "TV-14       1698\n",
       "TV-PG        701\n",
       "R            508\n",
       "PG-13        286\n",
       "NR           218\n",
       "PG           184\n",
       "TV-Y7        169\n",
       "TV-G         149\n",
       "TV-Y         143\n",
       "TV-Y7-FV      95\n",
       "G             37\n",
       "UR             7\n",
       "NC-17          2\n",
       "Name: rating, dtype: int64"
      ]
     },
     "execution_count": 20,
     "metadata": {},
     "output_type": "execute_result"
    }
   ],
   "source": [
    "# Filling missing values with mode for columns 'date_added', 'rating'.\n",
    "df2['date_added'].fillna(df2['date_added'].mode()[0], inplace=True)\n",
    "df2.rating.fillna(df2.rating.mode()[0], inplace=True)\n",
    "df2.rating.value_counts(dropna=False)"
   ]
  },
  {
   "cell_type": "code",
   "execution_count": 21,
   "id": "c219c364",
   "metadata": {},
   "outputs": [
    {
     "data": {
      "text/plain": [
       "type            0\n",
       "title           0\n",
       "director        0\n",
       "cast            0\n",
       "country         0\n",
       "date_added      0\n",
       "release_year    0\n",
       "rating          0\n",
       "duration        0\n",
       "listed_in       0\n",
       "description     0\n",
       "dtype: int64"
      ]
     },
     "execution_count": 21,
     "metadata": {},
     "output_type": "execute_result"
    }
   ],
   "source": [
    "df2.isnull().sum()"
   ]
  },
  {
   "cell_type": "markdown",
   "id": "8cf70a10",
   "metadata": {},
   "source": [
    "## 3. Formatting date_added column"
   ]
  },
  {
   "cell_type": "code",
   "execution_count": 22,
   "id": "bfd6562d",
   "metadata": {
    "scrolled": true
   },
   "outputs": [
    {
     "data": {
      "text/html": [
       "<div>\n",
       "<style scoped>\n",
       "    .dataframe tbody tr th:only-of-type {\n",
       "        vertical-align: middle;\n",
       "    }\n",
       "\n",
       "    .dataframe tbody tr th {\n",
       "        vertical-align: top;\n",
       "    }\n",
       "\n",
       "    .dataframe thead th {\n",
       "        text-align: right;\n",
       "    }\n",
       "</style>\n",
       "<table border=\"1\" class=\"dataframe\">\n",
       "  <thead>\n",
       "    <tr style=\"text-align: right;\">\n",
       "      <th></th>\n",
       "      <th>type</th>\n",
       "      <th>title</th>\n",
       "      <th>director</th>\n",
       "      <th>cast</th>\n",
       "      <th>country</th>\n",
       "      <th>date_added</th>\n",
       "      <th>release_year</th>\n",
       "      <th>rating</th>\n",
       "      <th>duration</th>\n",
       "      <th>listed_in</th>\n",
       "      <th>description</th>\n",
       "      <th>year_added</th>\n",
       "      <th>month_added</th>\n",
       "      <th>day_added</th>\n",
       "    </tr>\n",
       "  </thead>\n",
       "  <tbody>\n",
       "    <tr>\n",
       "      <th>0</th>\n",
       "      <td>Movie</td>\n",
       "      <td>Norm of the North: King Sized Adventure</td>\n",
       "      <td>Richard Finn, Tim Maltby</td>\n",
       "      <td>Alan Marriott, Andrew Toth, Brian Dobson, Cole...</td>\n",
       "      <td>United States, India, South Korea, China</td>\n",
       "      <td>2019-09-09</td>\n",
       "      <td>2019</td>\n",
       "      <td>TV-PG</td>\n",
       "      <td>90 min</td>\n",
       "      <td>Children &amp; Family Movies, Comedies</td>\n",
       "      <td>Before planning an awesome wedding for his gra...</td>\n",
       "      <td>2019</td>\n",
       "      <td>September</td>\n",
       "      <td>Monday</td>\n",
       "    </tr>\n",
       "    <tr>\n",
       "      <th>1</th>\n",
       "      <td>Movie</td>\n",
       "      <td>Jandino: Whatever it Takes</td>\n",
       "      <td>NA</td>\n",
       "      <td>Jandino Asporaat</td>\n",
       "      <td>United Kingdom</td>\n",
       "      <td>2016-09-09</td>\n",
       "      <td>2016</td>\n",
       "      <td>TV-MA</td>\n",
       "      <td>94 min</td>\n",
       "      <td>Stand-Up Comedy</td>\n",
       "      <td>Jandino Asporaat riffs on the challenges of ra...</td>\n",
       "      <td>2016</td>\n",
       "      <td>September</td>\n",
       "      <td>Friday</td>\n",
       "    </tr>\n",
       "    <tr>\n",
       "      <th>2</th>\n",
       "      <td>TV Show</td>\n",
       "      <td>Transformers Prime</td>\n",
       "      <td>NA</td>\n",
       "      <td>Peter Cullen, Sumalee Montano, Frank Welker, J...</td>\n",
       "      <td>United States</td>\n",
       "      <td>2018-09-08</td>\n",
       "      <td>2013</td>\n",
       "      <td>TV-Y7-FV</td>\n",
       "      <td>1 Season</td>\n",
       "      <td>Kids' TV</td>\n",
       "      <td>With the help of three human allies, the Autob...</td>\n",
       "      <td>2018</td>\n",
       "      <td>September</td>\n",
       "      <td>Saturday</td>\n",
       "    </tr>\n",
       "    <tr>\n",
       "      <th>3</th>\n",
       "      <td>TV Show</td>\n",
       "      <td>Transformers: Robots in Disguise</td>\n",
       "      <td>NA</td>\n",
       "      <td>Will Friedle, Darren Criss, Constance Zimmer, ...</td>\n",
       "      <td>United States</td>\n",
       "      <td>2018-09-08</td>\n",
       "      <td>2016</td>\n",
       "      <td>TV-Y7</td>\n",
       "      <td>1 Season</td>\n",
       "      <td>Kids' TV</td>\n",
       "      <td>When a prison ship crash unleashes hundreds of...</td>\n",
       "      <td>2018</td>\n",
       "      <td>September</td>\n",
       "      <td>Saturday</td>\n",
       "    </tr>\n",
       "    <tr>\n",
       "      <th>4</th>\n",
       "      <td>Movie</td>\n",
       "      <td>#realityhigh</td>\n",
       "      <td>Fernando Lebrija</td>\n",
       "      <td>Nesta Cooper, Kate Walsh, John Michael Higgins...</td>\n",
       "      <td>United States</td>\n",
       "      <td>2017-09-08</td>\n",
       "      <td>2017</td>\n",
       "      <td>TV-14</td>\n",
       "      <td>99 min</td>\n",
       "      <td>Comedies</td>\n",
       "      <td>When nerdy high schooler Dani finally attracts...</td>\n",
       "      <td>2017</td>\n",
       "      <td>September</td>\n",
       "      <td>Friday</td>\n",
       "    </tr>\n",
       "  </tbody>\n",
       "</table>\n",
       "</div>"
      ],
      "text/plain": [
       "      type                                    title                  director  \\\n",
       "0    Movie  Norm of the North: King Sized Adventure  Richard Finn, Tim Maltby   \n",
       "1    Movie               Jandino: Whatever it Takes                        NA   \n",
       "2  TV Show                       Transformers Prime                        NA   \n",
       "3  TV Show         Transformers: Robots in Disguise                        NA   \n",
       "4    Movie                             #realityhigh          Fernando Lebrija   \n",
       "\n",
       "                                                cast  \\\n",
       "0  Alan Marriott, Andrew Toth, Brian Dobson, Cole...   \n",
       "1                                   Jandino Asporaat   \n",
       "2  Peter Cullen, Sumalee Montano, Frank Welker, J...   \n",
       "3  Will Friedle, Darren Criss, Constance Zimmer, ...   \n",
       "4  Nesta Cooper, Kate Walsh, John Michael Higgins...   \n",
       "\n",
       "                                    country date_added  release_year  \\\n",
       "0  United States, India, South Korea, China 2019-09-09          2019   \n",
       "1                            United Kingdom 2016-09-09          2016   \n",
       "2                             United States 2018-09-08          2013   \n",
       "3                             United States 2018-09-08          2016   \n",
       "4                             United States 2017-09-08          2017   \n",
       "\n",
       "     rating  duration                           listed_in  \\\n",
       "0     TV-PG    90 min  Children & Family Movies, Comedies   \n",
       "1     TV-MA    94 min                     Stand-Up Comedy   \n",
       "2  TV-Y7-FV  1 Season                            Kids' TV   \n",
       "3     TV-Y7  1 Season                            Kids' TV   \n",
       "4     TV-14    99 min                            Comedies   \n",
       "\n",
       "                                         description  year_added month_added  \\\n",
       "0  Before planning an awesome wedding for his gra...        2019   September   \n",
       "1  Jandino Asporaat riffs on the challenges of ra...        2016   September   \n",
       "2  With the help of three human allies, the Autob...        2018   September   \n",
       "3  When a prison ship crash unleashes hundreds of...        2018   September   \n",
       "4  When nerdy high schooler Dani finally attracts...        2017   September   \n",
       "\n",
       "  day_added  \n",
       "0    Monday  \n",
       "1    Friday  \n",
       "2  Saturday  \n",
       "3  Saturday  \n",
       "4    Friday  "
      ]
     },
     "execution_count": 22,
     "metadata": {},
     "output_type": "execute_result"
    }
   ],
   "source": [
    "# - Converting 'date_added' column to datetime and adding new columns.\n",
    "\n",
    "df2.date_added = pd.to_datetime(df2.date_added)\n",
    "df2['year_added'] = df2.date_added.dt.year\n",
    "df2['month_added'] = df2.date_added.dt.month_name()\n",
    "df2['day_added'] = df2.date_added.dt.day_name()\n",
    "\n",
    "# - Converting apropriate columns to category type.\n",
    "\n",
    "df2 = df2.astype({\n",
    "    'type':'category', \n",
    "    'rating':'category'\n",
    "})\n",
    "df2.head()"
   ]
  },
  {
   "cell_type": "markdown",
   "id": "449a7fa4",
   "metadata": {},
   "source": [
    " ## 4. Removing duplicates"
   ]
  },
  {
   "cell_type": "code",
   "execution_count": 23,
   "id": "272ac02b",
   "metadata": {},
   "outputs": [
    {
     "name": "stdout",
     "output_type": "stream",
     "text": [
      "1\n"
     ]
    },
    {
     "data": {
      "text/plain": [
       "(6233, 14)"
      ]
     },
     "execution_count": 23,
     "metadata": {},
     "output_type": "execute_result"
    }
   ],
   "source": [
    "print(df2.duplicated().sum())\n",
    "df2.drop_duplicates(inplace = True)\n",
    "df2.shape"
   ]
  },
  {
   "cell_type": "markdown",
   "id": "ea41e9b9",
   "metadata": {},
   "source": [
    "# Analysis "
   ]
  },
  {
   "cell_type": "markdown",
   "id": "be47e8c4",
   "metadata": {},
   "source": [
    "## (1) Type of content and their counts"
   ]
  },
  {
   "cell_type": "code",
   "execution_count": 24,
   "id": "837e5e00",
   "metadata": {},
   "outputs": [
    {
     "data": {
      "image/png": "[encoded data removed]",
      "text/plain": [
       "<Figure size 432x288 with 1 Axes>"
      ]
     },
     "metadata": {
      "needs_background": "light"
     },
     "output_type": "display_data"
    }
   ],
   "source": [
    "# barplot(type)\n",
    "\n",
    "ax = df2.type.value_counts().plot(kind='bar',rot=0)\n",
    "ax.set_xlabel('Type')\n",
    "ax.set_ylabel('Number of content')\n",
    "ax.set_title('Type of content in dataset')\n",
    "plt.show()"
   ]
  },
  {
   "cell_type": "markdown",
   "id": "8005bf2c",
   "metadata": {},
   "source": [
    "#### Conclusion: There are two type of content; movie and TV Show. It can be observed that number of movies are higher than number of TV Show."
   ]
  },
  {
   "cell_type": "markdown",
   "id": "bf88766c",
   "metadata": {},
   "source": [
    "## (2) Type of content added per year"
   ]
  },
  {
   "cell_type": "code",
   "execution_count": 25,
   "id": "d34b78cd",
   "metadata": {},
   "outputs": [
    {
     "data": {
      "image/png": "[encoded data removed]",
      "text/plain": [
       "<Figure size 1080x504 with 1 Axes>"
      ]
     },
     "metadata": {
      "needs_background": "light"
     },
     "output_type": "display_data"
    }
   ],
   "source": [
    "# Line diagram\n",
    "\n",
    "df3 = df2.groupby('year_added')['type'].value_counts().reset_index()\n",
    "df3 =df3.rename(columns={'level_1': 'Type', 'type':'count'})\n",
    "fig, ax = plt.subplots(figsize=(15, 7))\n",
    "sns.lineplot(x='year_added', y='count', data=df3, hue='Type', palette=[\"#B00710\",\"#000000\"])\n",
    "ax.set_xlabel('Year')\n",
    "ax.set_ylabel('Number of content')\n",
    "ax.set_title('Content added per year')\n",
    "plt.show()"
   ]
  },
  {
   "cell_type": "markdown",
   "id": "e0d453c1",
   "metadata": {},
   "source": [
    "#### Conclusion: (1) After 2015 a lot of content is added on Netflix. (2) Movies added on Netflix in larger number than TV Shows. (3) There is a significant drop after 2019 in both movie and tv show."
   ]
  },
  {
   "cell_type": "markdown",
   "id": "5adc86af",
   "metadata": {},
   "source": [
    "## (3) Number of content added per month"
   ]
  },
  {
   "cell_type": "code",
   "execution_count": 26,
   "id": "e9eecf53",
   "metadata": {},
   "outputs": [
    {
     "data": {
      "image/png": "[encoded data removed]",
      "text/plain": [
       "<Figure size 1008x360 with 1 Axes>"
      ]
     },
     "metadata": {
      "needs_background": "light"
     },
     "output_type": "display_data"
    }
   ],
   "source": [
    "fig, ax = plt.subplots(figsize=(14, 5))\n",
    "ax=sns.countplot(x='month_added',\n",
    "                   data=df2, hue='type', \n",
    "                   order=df2.month_added.value_counts().index, \n",
    "                   palette=[\"#B00710\",\"#000000\"])\n",
    "ax.set_xlabel('Month')\n",
    "ax.set_ylabel('Number of Content')\n",
    "ax.set_title('Content added per month')\n",
    "plt.show()"
   ]
  },
  {
   "cell_type": "markdown",
   "id": "16347a2a",
   "metadata": {},
   "source": [
    "#### Conclusion: (1) Number of Movie added is much higher than TV Show for every month. (2) In December and October most content was added on Netflix in total. That is because due to holidays."
   ]
  },
  {
   "cell_type": "markdown",
   "id": "fb66a00b",
   "metadata": {},
   "source": [
    "## (4) Number of content added per day in a week"
   ]
  },
  {
   "cell_type": "code",
   "execution_count": 27,
   "id": "ee4af0d3",
   "metadata": {},
   "outputs": [
    {
     "data": {
      "image/png": "[encoded data removed]",
      "text/plain": [
       "<Figure size 864x504 with 1 Axes>"
      ]
     },
     "metadata": {
      "needs_background": "light"
     },
     "output_type": "display_data"
    }
   ],
   "source": [
    "plt.figure(figsize=(12, 7))\n",
    "ax = sns.countplot(x='day_added',data=df2, \n",
    "                   hue='type', \n",
    "                   order=df2.day_added.value_counts().sort_values().index, \n",
    "                   palette=[\"#B00710\",\"#000000\"])\n",
    "\n",
    "ax.set_title('Content added per week day')\n",
    "ax.set_xlabel('Day')\n",
    "ax.set_ylabel('Number of Content')\n",
    "ax.set_title('Content added on Netflix per week day')\n",
    "plt.show()"
   ]
  },
  {
   "cell_type": "markdown",
   "id": "0475ecb7",
   "metadata": {},
   "source": [
    "#### Conclusion:  Large number of content added on Friday after Thursday and significant number of TV Show released on Friday than other days."
   ]
  },
  {
   "cell_type": "markdown",
   "id": "aff0dde0",
   "metadata": {},
   "source": [
    "## (5) Pie chart for ratings"
   ]
  },
  {
   "cell_type": "code",
   "execution_count": 28,
   "id": "e0b2af76",
   "metadata": {},
   "outputs": [
    {
     "data": {
      "text/plain": [
       "<AxesSubplot:ylabel='None'>"
      ]
     },
     "execution_count": 28,
     "metadata": {},
     "output_type": "execute_result"
    },
    {
     "data": {
      "image/png": "[encoded data removed]",
      "text/plain": [
       "<Figure size 432x288 with 1 Axes>"
      ]
     },
     "metadata": {},
     "output_type": "display_data"
    }
   ],
   "source": [
    "df2.groupby('rating').size().plot(kind='pie',autopct='%.1f')"
   ]
  },
  {
   "cell_type": "markdown",
   "id": "555e16a4",
   "metadata": {},
   "source": [
    "#### Conclusion: The three highest ratings are TV-MA, TV-14, TV-PG. Mainly ratings are shown for adults audience."
   ]
  },
  {
   "cell_type": "markdown",
   "id": "9f82f31a",
   "metadata": {},
   "source": [
    "## (6) Count content per audience type"
   ]
  },
  {
   "cell_type": "code",
   "execution_count": 29,
   "id": "e002f488",
   "metadata": {},
   "outputs": [
    {
     "data": {
      "image/png": "[encoded data removed]",
      "text/plain": [
       "<Figure size 800x500 with 1 Axes>"
      ]
     },
     "metadata": {
      "needs_background": "light"
     },
     "output_type": "display_data"
    }
   ],
   "source": [
    "Kids = ['TV-Y', 'TV-Y7', 'G', 'TV-G', 'PG', 'TV-PG', 'TV-Y7-FV']\n",
    "Teens = ['PG-13', 'TV-14']\n",
    "Adults = ['R', 'TV-MA', 'NC-17', 'UR', 'NR']\n",
    "\n",
    "def rate(x):\n",
    "    if x in Kids:\n",
    "        return 'Kid'\n",
    "    elif x in Teens:\n",
    "        return 'Teen'\n",
    "    elif x in Adults:\n",
    "        return 'Adult'\n",
    "    \n",
    "df3 = df2['rating'].apply(rate)\n",
    "df4 = pd.concat([df3, df2['type']], axis=1)\n",
    "plt.figure(figsize=(8,5), dpi=100)\n",
    "ax = sns.countplot(x='rating',data=df4, hue='type', order=['Adult', 'Teen', 'Kid'], palette=[\"#B00710\",\"#000000\"])\n",
    "ax.set_ylabel('Number of content', labelpad=14)\n",
    "ax.set_xlabel('Rating', labelpad=14)\n",
    "plt.show()"
   ]
  },
  {
   "cell_type": "markdown",
   "id": "de9bf583",
   "metadata": {},
   "source": [
    "#### Conclusion: Netflix added a lot of adults movies as compare to adult TV shows. "
   ]
  },
  {
   "cell_type": "markdown",
   "id": "c3afc1b0",
   "metadata": {},
   "source": [
    "## (7) Common duration for movies "
   ]
  },
  {
   "cell_type": "code",
   "execution_count": 30,
   "id": "8501a4d2",
   "metadata": {},
   "outputs": [
    {
     "ename": "SyntaxError",
     "evalue": "positional argument follows keyword argument (1985999636.py, line 9)",
     "output_type": "error",
     "traceback": [
      "\u001b[1;36m  Input \u001b[1;32mIn [30]\u001b[1;36m\u001b[0m\n\u001b[1;33m    sns.boxplot(x=movie_durations, color=\"#B00710\", ax = ax2,b)\u001b[0m\n\u001b[1;37m                                                              ^\u001b[0m\n\u001b[1;31mSyntaxError\u001b[0m\u001b[1;31m:\u001b[0m positional argument follows keyword argument\n"
     ]
    }
   ],
   "source": [
    "movie_durations = df2[df2['duration'].str.contains('min')]['duration'].apply(lambda x: x.split()[0]).astype('int')\n",
    "# Histogram plot with KDE\n",
    "fig, (ax1, ax2) = plt.subplots(1, 2, figsize=(25,9))\n",
    "g = sns.histplot(movie_durations, kde=True, color=\"#B00710\", bins=50, ax = ax1)\n",
    "ax1.set_title('Hist plot with KDE for Movie Duration')\n",
    "g.set(xticks=np.arange(0, 350, 25))\n",
    "\n",
    "# Box plot\n",
    "sns.boxplot(x=movie_durations, color=\"#B00710\", ax = ax2,b)\n",
    "ax2.set_xticks(np.arange(0,350, 25))\n",
    "ax2.set_xlabel('Duration', labelpad=14)\n",
    "ax2.set_title('Box plot for Movies Durations', pad=14)\n",
    "plt.show()"
   ]
  },
  {
   "cell_type": "markdown",
   "id": "5126948e",
   "metadata": {},
   "source": [
    "#### Conclusion: Since histogram shows normal distribution, average duration of movies is 100 minutes and duration will be changed within 25 minutes."
   ]
  },
  {
   "cell_type": "markdown",
   "id": "3ad2de24",
   "metadata": {},
   "source": [
    "## (8) Common number of seasons for TV shows"
   ]
  },
  {
   "cell_type": "code",
   "execution_count": null,
   "id": "8b4e80af",
   "metadata": {},
   "outputs": [],
   "source": [
    "seasons = df2[df2['duration'].str.contains('Season')]['duration']\n",
    "plt.figure(figsize=(10,5), dpi=100)\n",
    "ax = seasons.value_counts().sort_values().plot(y='duration', kind='barh',color=[\"#B00710\"])\n",
    "ax.set_title('Content added per week day')\n",
    "ax.set_xlabel('Number of Seasons', labelpad=14)\n",
    "ax.set_title('Count of TV Show- Seasons added on Netflix', pad=14)\n",
    "plt.show()"
   ]
  },
  {
   "cell_type": "markdown",
   "id": "62bda6fb",
   "metadata": {},
   "source": [
    "#### Conclusion: There are mainly 1-2 season of TV shows but there is a significant drop after season 1."
   ]
  },
  {
   "cell_type": "code",
   "execution_count": null,
   "id": "7e7b5579",
   "metadata": {},
   "outputs": [],
   "source": [
    "# function to solve the nested problem for columns\n",
    "\n",
    "def explode_data(data, col : str, name : str, along:str = 'year_added'):\n",
    "    return (\n",
    "    df2\n",
    "        [col]\n",
    "        .apply(lambda x: x.replace(', ', ',').replace(' ,', ',').split(','))\n",
    "        .to_frame()\n",
    "        .set_index(data[along])\n",
    "        .explode(col)\n",
    "        .replace('', np.nan)\n",
    "        .replace('NA', np.nan)\n",
    "        .dropna()\n",
    "        .stack()\n",
    "        .to_frame()\n",
    "        .reset_index()\n",
    "        .drop('level_1', axis=1)\n",
    "        .rename(columns={0:name})\n",
    ")"
   ]
  },
  {
   "cell_type": "markdown",
   "id": "6b58eb4d",
   "metadata": {},
   "source": [
    "## (9) Top 10 countries for movies and TV shows"
   ]
  },
  {
   "cell_type": "code",
   "execution_count": null,
   "id": "a3e4cf85",
   "metadata": {},
   "outputs": [],
   "source": [
    "country_data = explode_data(df2, 'country', 'country', 'type')\n",
    "data = country_data.value_counts().reset_index(level=1)\n",
    "\n",
    "fig, (ax1, ax2) = plt.subplots(2,1,figsize=(18,12))\n",
    "fig.subplots_adjust(hspace=0.5)\n",
    "\n",
    "sns.barplot(x='country',y =0, data=data.loc['Movie'].head(10), color=\"#B00710\", ax=ax1, )\n",
    "ax1.tick_params(axis='x', labelrotation = 45)\n",
    "ax1.set_title('Top 10 countries added Movies')\n",
    "ax1.set_ylabel('Number of Movie', labelpad=14)\n",
    "ax1.set_xlabel('Country', labelpad=7)\n",
    "ax1.set_yticks(np.arange(0,3500,500))\n",
    "sns.barplot(x='country',y =0, data=data.loc['TV Show'].head(10), color=\"#000000\", ax = ax2)\n",
    "ax2.set_title('Top 10 countries added TV Shows')\n",
    "ax2.tick_params(axis='x', labelrotation = 45)\n",
    "ax2.set_ylabel('Number of TV Show', labelpad=14)\n",
    "ax2.set_xlabel('Country', labelpad=7)\n",
    "ax2.set_yticks(np.arange(0,3500,500))\n",
    "plt.show()"
   ]
  },
  {
   "cell_type": "markdown",
   "id": "26f731c8",
   "metadata": {},
   "source": [
    "#### Conclusiuon: (1) The orders of top 10 countries for Movie and TV Show are different. (2) In countries like India, Spain, Germay Movies are more popular than TV Shows. (3) In countries like Japan, South Korea, Taiwan TV Shows are more popular than Movies."
   ]
  },
  {
   "cell_type": "markdown",
   "id": "273c485c",
   "metadata": {},
   "source": [
    "## (10) Top 10 type of movie and TV show"
   ]
  },
  {
   "cell_type": "code",
   "execution_count": null,
   "id": "04c41aaf",
   "metadata": {},
   "outputs": [],
   "source": [
    "genre_data = explode_data(df2, 'listed_in', 'genre', 'type')\n",
    "data = genre_data.value_counts().reset_index(level=1)\n",
    "\n",
    "fig, ax = plt.subplots(2,1, figsize=(10, 8))\n",
    "\n",
    "fig.subplots_adjust(hspace=0.9)\n",
    "sns.barplot(x=0,y ='genre', data=data.loc['Movie'].head(10), color=\"#B00710\", ax=ax[0])\n",
    "ax[0].set_xlabel('')\n",
    "ax[0].set_ylabel('Movie')\n",
    "ax[0].set_xticks(np.arange(0,3500,500))\n",
    "\n",
    "sns.barplot(x=0,y ='genre', data=data.loc['TV Show'].head(10), color=\"#000000\", ax=ax[1])\n",
    "ax[1].set_xlabel('Number of content', labelpad=14)\n",
    "ax[1].set_ylabel('TV Show')\n",
    "ax[1].set_xticks(np.arange(0,3500,500))\n",
    "fig.suptitle('Top 10 genres of Movie and TV Show added on Netflix')\n",
    "fig.tight_layout()"
   ]
  },
  {
   "cell_type": "markdown",
   "id": "5d10b4c6",
   "metadata": {},
   "source": [
    "#### Conclusion: (1) Crime TV Shows and Kids' TV are more popular than their similar genre in Movies. (2) Documentaries and Action & Adventure are more popular for movies than TV Show."
   ]
  },
  {
   "cell_type": "markdown",
   "id": "872cb8a0",
   "metadata": {},
   "source": [
    "## (11)Top 10 movie cast"
   ]
  },
  {
   "cell_type": "code",
   "execution_count": null,
   "id": "55a1249d",
   "metadata": {},
   "outputs": [],
   "source": [
    "cast_data = explode_data(df2, 'cast', 'cast' ,'type')\n",
    "cast_data.value_counts().loc['Movie'].head(10)"
   ]
  },
  {
   "cell_type": "markdown",
   "id": "d118d769",
   "metadata": {},
   "source": [
    " #### Conclusion: It is observed that in top 10 movie cast, most of the people are from India."
   ]
  },
  {
   "cell_type": "markdown",
   "id": "9d1964ac",
   "metadata": {},
   "source": [
    "## (12) Top 10 TV show cast"
   ]
  },
  {
   "cell_type": "code",
   "execution_count": null,
   "id": "9c89c43c",
   "metadata": {},
   "outputs": [],
   "source": [
    "cast_data.value_counts().loc['TV Show'].head(10)"
   ]
  },
  {
   "cell_type": "markdown",
   "id": "333408ad",
   "metadata": {},
   "source": [
    "#### Conclusion: It is observed that in top 10 TV shows, most of the people from Japan."
   ]
  },
  {
   "cell_type": "markdown",
   "id": "b92c8d4d",
   "metadata": {},
   "source": [
    "### Recommendations: (Movie)                                                                                                                                                (a) Netflix should be focusing on adding more movies in emerging countries like India, United Kingdom, Canada and France for Adult audience.                                                                                                                                               (b) Preferred Duration of movies will be from 80-120 minutes.                                                                                          (c) International Movies, Dramas, Comedies should be the preferred type for Movies.                                                 (TV Show)                                                                                                                                                                                    (a) For TV Shows Netflix should focus on countries like Japan, South Korea, Canada and France.                                (b)TV Show seasons can be up to 3 preferably.                                                                                                                      (c) International TV Shows, TV Dramas, TV Comedies should be the preferred genres for TV Shows."
   ]
  },
  {
   "cell_type": "code",
   "execution_count": null,
   "id": "e7374728",
   "metadata": {},
   "outputs": [],
   "source": [
    " "
   ]
  }
 ],
 "metadata": {
  "kernelspec": {
   "display_name": "Python 3 (ipykernel)",
   "language": "python",
   "name": "python3"
  },
  "language_info": {
   "codemirror_mode": {
    "name": "ipython",
    "version": 3
   },
   "file_extension": ".py",
   "mimetype": "text/x-python",
   "name": "python",
   "nbconvert_exporter": "python",
   "pygments_lexer": "ipython3",
   "version": "3.9.12"
  }
 },
 "nbformat": 4,
 "nbformat_minor": 5
}
